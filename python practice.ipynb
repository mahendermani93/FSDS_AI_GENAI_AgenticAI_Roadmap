{
 "cells": [
  {
   "cell_type": "markdown",
   "id": "d5d2449d",
   "metadata": {},
   "source": [
    "# Single line comment"
   ]
  },
  {
   "cell_type": "code",
   "execution_count": 1,
   "id": "aa5b0389",
   "metadata": {},
   "outputs": [
    {
     "name": "stdout",
     "output_type": "stream",
     "text": [
      "Hello World\n"
     ]
    }
   ],
   "source": [
    "print(\"Hello World\")"
   ]
  },
  {
   "cell_type": "markdown",
   "id": "7a678ece",
   "metadata": {},
   "source": [
    "# Multi line comment"
   ]
  },
  {
   "cell_type": "code",
   "execution_count": 2,
   "id": "f58070da",
   "metadata": {},
   "outputs": [
    {
     "data": {
      "text/plain": [
       "'\\nwelcome\\nto \\nnit\\n'"
      ]
     },
     "execution_count": 2,
     "metadata": {},
     "output_type": "execute_result"
    }
   ],
   "source": [
    "'''\n",
    "welcome\n",
    "to \n",
    "nit\n",
    "'''"
   ]
  },
  {
   "cell_type": "code",
   "execution_count": null,
   "id": "a2578914",
   "metadata": {},
   "outputs": [],
   "source": []
  },
  {
   "cell_type": "markdown",
   "id": "2a04d6e2",
   "metadata": {},
   "source": [
    "# Variables"
   ]
  },
  {
   "cell_type": "code",
   "execution_count": 3,
   "id": "668aedce",
   "metadata": {},
   "outputs": [
    {
     "name": "stdout",
     "output_type": "stream",
     "text": [
      "5\n"
     ]
    }
   ],
   "source": [
    "a=5\n",
    "print(a)"
   ]
  },
  {
   "cell_type": "code",
   "execution_count": 4,
   "id": "f850e360",
   "metadata": {},
   "outputs": [
    {
     "name": "stdout",
     "output_type": "stream",
     "text": [
      "2.3\n"
     ]
    }
   ],
   "source": [
    "b=2.3\n",
    "print(b)"
   ]
  },
  {
   "cell_type": "code",
   "execution_count": 5,
   "id": "9e5682b3",
   "metadata": {},
   "outputs": [
    {
     "name": "stdout",
     "output_type": "stream",
     "text": [
      "mani\n"
     ]
    }
   ],
   "source": [
    "c=\"mani\"\n",
    "print(c)"
   ]
  },
  {
   "cell_type": "code",
   "execution_count": 6,
   "id": "fff0bfcc",
   "metadata": {},
   "outputs": [
    {
     "ename": "SyntaxError",
     "evalue": "invalid decimal literal (2517538965.py, line 1)",
     "output_type": "error",
     "traceback": [
      "\u001b[1;36m  Cell \u001b[1;32mIn[6], line 1\u001b[1;36m\u001b[0m\n\u001b[1;33m    1a=20\u001b[0m\n\u001b[1;37m    ^\u001b[0m\n\u001b[1;31mSyntaxError\u001b[0m\u001b[1;31m:\u001b[0m invalid decimal literal\n"
     ]
    }
   ],
   "source": [
    "1a=20"
   ]
  },
  {
   "cell_type": "code",
   "execution_count": 8,
   "id": "bef37710",
   "metadata": {},
   "outputs": [
    {
     "data": {
      "text/plain": [
       "20"
      ]
     },
     "execution_count": 8,
     "metadata": {},
     "output_type": "execute_result"
    }
   ],
   "source": [
    "a1=20\n",
    "a1"
   ]
  },
  {
   "cell_type": "code",
   "execution_count": 9,
   "id": "588a69e7",
   "metadata": {},
   "outputs": [
    {
     "ename": "SyntaxError",
     "evalue": "invalid syntax (2369829492.py, line 1)",
     "output_type": "error",
     "traceback": [
      "\u001b[1;36m  Cell \u001b[1;32mIn[9], line 1\u001b[1;36m\u001b[0m\n\u001b[1;33m    if=20\u001b[0m\n\u001b[1;37m      ^\u001b[0m\n\u001b[1;31mSyntaxError\u001b[0m\u001b[1;31m:\u001b[0m invalid syntax\n"
     ]
    }
   ],
   "source": [
    "if=20\n",
    "if"
   ]
  },
  {
   "cell_type": "code",
   "execution_count": 10,
   "id": "202ba6ff",
   "metadata": {},
   "outputs": [
    {
     "data": {
      "text/plain": [
       "20"
      ]
     },
     "execution_count": 10,
     "metadata": {},
     "output_type": "execute_result"
    }
   ],
   "source": [
    "If=20\n",
    "If"
   ]
  },
  {
   "cell_type": "raw",
   "id": "4efbdec8",
   "metadata": {},
   "source": [
    "Many values to multiple variables\n",
    "   . Python allows you to assign values to multiple variables in one life\n",
    "   . Make sure the number of variables matches the number of values, or else you will get an error"
   ]
  },
  {
   "cell_type": "code",
   "execution_count": 11,
   "id": "07aa3872",
   "metadata": {},
   "outputs": [
    {
     "name": "stdout",
     "output_type": "stream",
     "text": [
      "10 20 30\n"
     ]
    }
   ],
   "source": [
    "a,b,c=10,20,30\n",
    "print(a,b,c)"
   ]
  },
  {
   "cell_type": "raw",
   "id": "c321c341",
   "metadata": {},
   "source": [
    "one value to multiple variables\n",
    "    . And you can assign the same value to multiple variables in one line"
   ]
  },
  {
   "cell_type": "code",
   "execution_count": 12,
   "id": "8d5ed6e0",
   "metadata": {},
   "outputs": [
    {
     "name": "stdout",
     "output_type": "stream",
     "text": [
      "15 15 15\n"
     ]
    }
   ],
   "source": [
    "a=b=c=15\n",
    "print(a,b,c)"
   ]
  },
  {
   "cell_type": "raw",
   "id": "adcb991e",
   "metadata": {},
   "source": [
    ". id()-- to check the address of the value or a variable"
   ]
  },
  {
   "cell_type": "code",
   "execution_count": 13,
   "id": "2ddbf3b0",
   "metadata": {},
   "outputs": [
    {
     "data": {
      "text/plain": [
       "140710071538504"
      ]
     },
     "execution_count": 13,
     "metadata": {},
     "output_type": "execute_result"
    }
   ],
   "source": [
    "a=2\n",
    "id(a)"
   ]
  },
  {
   "cell_type": "raw",
   "id": "14dc3e1b",
   "metadata": {},
   "source": [
    "In python, the latest value will stored in a variable"
   ]
  },
  {
   "cell_type": "code",
   "execution_count": 14,
   "id": "87c4d05a",
   "metadata": {},
   "outputs": [
    {
     "name": "stdout",
     "output_type": "stream",
     "text": [
      "mani\n"
     ]
    }
   ],
   "source": [
    "a=\"mani\"\n",
    "print(a)"
   ]
  },
  {
   "cell_type": "raw",
   "id": "252e15aa",
   "metadata": {},
   "source": [
    "Deleting variable\n",
    "    . Syntax to delete single variable\n",
    "    . del variable_name"
   ]
  },
  {
   "cell_type": "code",
   "execution_count": 15,
   "id": "e85cc73d",
   "metadata": {},
   "outputs": [],
   "source": [
    "a,b=10,20\n",
    "del a"
   ]
  },
  {
   "cell_type": "raw",
   "id": "7f1607d0",
   "metadata": {},
   "source": [
    "    . Syntax to delte multiple variables at a time\n",
    "    . del variable1, variable2,....then variable n"
   ]
  },
  {
   "cell_type": "code",
   "execution_count": 16,
   "id": "d76256ff",
   "metadata": {},
   "outputs": [],
   "source": [
    "a,b,c=10,20,30\n",
    "del a,b"
   ]
  },
  {
   "cell_type": "markdown",
   "id": "1f365dcb",
   "metadata": {},
   "source": [
    "# Print"
   ]
  },
  {
   "cell_type": "raw",
   "id": "0b291830",
   "metadata": {},
   "source": [
    "Output in python\n",
    "to print a single value\n",
    "    . Syntax:print(value)"
   ]
  },
  {
   "cell_type": "code",
   "execution_count": 17,
   "id": "5799110b",
   "metadata": {},
   "outputs": [
    {
     "name": "stdout",
     "output_type": "stream",
     "text": [
      "12\n"
     ]
    }
   ],
   "source": [
    "print(12)"
   ]
  },
  {
   "cell_type": "code",
   "execution_count": 18,
   "id": "d7df4504",
   "metadata": {},
   "outputs": [
    {
     "name": "stdout",
     "output_type": "stream",
     "text": [
      "mani\n"
     ]
    }
   ],
   "source": [
    "print(\"mani\")"
   ]
  },
  {
   "cell_type": "markdown",
   "id": "24227b4a",
   "metadata": {},
   "source": [
    "To print multiple values\n",
    "    . Syntax: print(value1,value2,....value n)"
   ]
  },
  {
   "cell_type": "code",
   "execution_count": 19,
   "id": "fd20a489",
   "metadata": {},
   "outputs": [
    {
     "name": "stdout",
     "output_type": "stream",
     "text": [
      "mani 10 12 ds\n"
     ]
    }
   ],
   "source": [
    "print(\"mani\",10,12,\"ds\")"
   ]
  },
  {
   "cell_type": "markdown",
   "id": "45fbbf54",
   "metadata": {},
   "source": [
    "To print a single variable\n",
    "    . Syntax: print(variable)"
   ]
  },
  {
   "cell_type": "code",
   "execution_count": 20,
   "id": "ff37577f",
   "metadata": {},
   "outputs": [
    {
     "name": "stdout",
     "output_type": "stream",
     "text": [
      "99\n"
     ]
    }
   ],
   "source": [
    "a=99\n",
    "print(a)"
   ]
  },
  {
   "cell_type": "markdown",
   "id": "4b62fcc0",
   "metadata": {},
   "source": [
    "To print multiple variables\n",
    "    . Syntax: print(Value1, value2, value3,...value n)"
   ]
  },
  {
   "cell_type": "code",
   "execution_count": 21,
   "id": "7d834503",
   "metadata": {},
   "outputs": [
    {
     "name": "stdout",
     "output_type": "stream",
     "text": [
      "90 25\n"
     ]
    }
   ],
   "source": [
    "a,b=90,25\n",
    "print(a,b)"
   ]
  },
  {
   "cell_type": "markdown",
   "id": "e962f6a0",
   "metadata": {},
   "source": [
    "To print combination of values and variables"
   ]
  },
  {
   "cell_type": "code",
   "execution_count": 22,
   "id": "9ca815d8",
   "metadata": {},
   "outputs": [
    {
     "name": "stdout",
     "output_type": "stream",
     "text": [
      "the value of a: 10\n"
     ]
    }
   ],
   "source": [
    "a=10\n",
    "print(\"the value of a:\",a)"
   ]
  },
  {
   "cell_type": "code",
   "execution_count": 24,
   "id": "5b2c485e",
   "metadata": {},
   "outputs": [
    {
     "name": "stdout",
     "output_type": "stream",
     "text": [
      "my number is: 12 and my name is: sun\n"
     ]
    }
   ],
   "source": [
    "num=12\n",
    "name='sun'\n",
    "print(\"my number is:\",num,\"and my name is:\",name)"
   ]
  },
  {
   "cell_type": "markdown",
   "id": "32fc01dd",
   "metadata": {},
   "source": [
    ".Format()"
   ]
  },
  {
   "cell_type": "code",
   "execution_count": 25,
   "id": "ee4c1044",
   "metadata": {},
   "outputs": [
    {
     "name": "stdout",
     "output_type": "stream",
     "text": [
      "my number is: 12 and my name is: sun\n"
     ]
    }
   ],
   "source": [
    "num=12\n",
    "name='sun'\n",
    "print(\"my number is: {} and my name is: {}\".format(num,name))"
   ]
  },
  {
   "cell_type": "markdown",
   "id": "0718c30c",
   "metadata": {},
   "source": [
    "# Integer, Float, Complex, Boolean, String"
   ]
  },
  {
   "cell_type": "markdown",
   "id": "b7a0433e",
   "metadata": {},
   "source": [
    "Integer(int):\n",
    "    . numerical value with no decimal\n",
    "    . can be neither negative or positive or zero"
   ]
  },
  {
   "cell_type": "code",
   "execution_count": 26,
   "id": "354de46e",
   "metadata": {},
   "outputs": [
    {
     "name": "stdout",
     "output_type": "stream",
     "text": [
      "10\n"
     ]
    }
   ],
   "source": [
    "a=10\n",
    "print(a)"
   ]
  },
  {
   "cell_type": "code",
   "execution_count": 27,
   "id": "c495dab4",
   "metadata": {},
   "outputs": [
    {
     "data": {
      "text/plain": [
       "int"
      ]
     },
     "execution_count": 27,
     "metadata": {},
     "output_type": "execute_result"
    }
   ],
   "source": [
    "type(a)"
   ]
  },
  {
   "cell_type": "code",
   "execution_count": 28,
   "id": "1bfa6d47",
   "metadata": {},
   "outputs": [
    {
     "data": {
      "text/plain": [
       "140710071538760"
      ]
     },
     "execution_count": 28,
     "metadata": {},
     "output_type": "execute_result"
    }
   ],
   "source": [
    "id(a)"
   ]
  },
  {
   "cell_type": "code",
   "execution_count": 29,
   "id": "59c95b61",
   "metadata": {},
   "outputs": [
    {
     "name": "stdout",
     "output_type": "stream",
     "text": [
      "<class 'int'>\n"
     ]
    }
   ],
   "source": [
    "print(type(a))"
   ]
  },
  {
   "cell_type": "markdown",
   "id": "f525764c",
   "metadata": {},
   "source": [
    "Float\n",
    "    . a numerical value with decimal"
   ]
  },
  {
   "cell_type": "code",
   "execution_count": 30,
   "id": "fe6e1592",
   "metadata": {},
   "outputs": [
    {
     "name": "stdout",
     "output_type": "stream",
     "text": [
      "2.4\n"
     ]
    }
   ],
   "source": [
    "b=2.4\n",
    "print(b)"
   ]
  },
  {
   "cell_type": "code",
   "execution_count": 31,
   "id": "ff62872a",
   "metadata": {},
   "outputs": [
    {
     "data": {
      "text/plain": [
       "float"
      ]
     },
     "execution_count": 31,
     "metadata": {},
     "output_type": "execute_result"
    }
   ],
   "source": [
    "type(b)"
   ]
  },
  {
   "cell_type": "code",
   "execution_count": 32,
   "id": "8b9113a4",
   "metadata": {},
   "outputs": [
    {
     "name": "stdout",
     "output_type": "stream",
     "text": [
      "<class 'float'>\n"
     ]
    }
   ],
   "source": [
    "print(type(b))"
   ]
  },
  {
   "cell_type": "markdown",
   "id": "d3b641ad",
   "metadata": {},
   "source": [
    "Boolean(bool)\n",
    "    . True/False"
   ]
  },
  {
   "cell_type": "code",
   "execution_count": 33,
   "id": "040e421f",
   "metadata": {},
   "outputs": [
    {
     "name": "stdout",
     "output_type": "stream",
     "text": [
      "True\n"
     ]
    }
   ],
   "source": [
    "a1=True\n",
    "print(a1)"
   ]
  },
  {
   "cell_type": "code",
   "execution_count": 34,
   "id": "c0463178",
   "metadata": {},
   "outputs": [
    {
     "data": {
      "text/plain": [
       "bool"
      ]
     },
     "execution_count": 34,
     "metadata": {},
     "output_type": "execute_result"
    }
   ],
   "source": [
    "type(a1)"
   ]
  },
  {
   "cell_type": "code",
   "execution_count": 35,
   "id": "8473d2fd",
   "metadata": {},
   "outputs": [
    {
     "name": "stdout",
     "output_type": "stream",
     "text": [
      "<class 'bool'>\n"
     ]
    }
   ],
   "source": [
    "print(type(a1))"
   ]
  },
  {
   "cell_type": "code",
   "execution_count": 36,
   "id": "7e03c96c",
   "metadata": {},
   "outputs": [
    {
     "name": "stdout",
     "output_type": "stream",
     "text": [
      "False\n"
     ]
    }
   ],
   "source": [
    "b1=False\n",
    "print(b1)"
   ]
  },
  {
   "cell_type": "code",
   "execution_count": 37,
   "id": "cc5937f1",
   "metadata": {},
   "outputs": [
    {
     "data": {
      "text/plain": [
       "bool"
      ]
     },
     "execution_count": 37,
     "metadata": {},
     "output_type": "execute_result"
    }
   ],
   "source": [
    "type(b1)"
   ]
  },
  {
   "cell_type": "code",
   "execution_count": 38,
   "id": "b6a87e08",
   "metadata": {},
   "outputs": [
    {
     "name": "stdout",
     "output_type": "stream",
     "text": [
      "<class 'bool'>\n"
     ]
    }
   ],
   "source": [
    "print(type(b1))"
   ]
  },
  {
   "cell_type": "markdown",
   "id": "2735810a",
   "metadata": {},
   "source": [
    "Complex"
   ]
  },
  {
   "cell_type": "code",
   "execution_count": 39,
   "id": "edb72870",
   "metadata": {},
   "outputs": [
    {
     "name": "stdout",
     "output_type": "stream",
     "text": [
      "(1+2j)\n"
     ]
    }
   ],
   "source": [
    "a2=1+2j\n",
    "print(a2)"
   ]
  },
  {
   "cell_type": "code",
   "execution_count": 40,
   "id": "4f62da5b",
   "metadata": {},
   "outputs": [
    {
     "data": {
      "text/plain": [
       "complex"
      ]
     },
     "execution_count": 40,
     "metadata": {},
     "output_type": "execute_result"
    }
   ],
   "source": [
    "type(a2)"
   ]
  },
  {
   "cell_type": "code",
   "execution_count": 41,
   "id": "97bffd0b",
   "metadata": {},
   "outputs": [
    {
     "name": "stdout",
     "output_type": "stream",
     "text": [
      "<class 'complex'>\n"
     ]
    }
   ],
   "source": [
    "print(type(a2))"
   ]
  },
  {
   "cell_type": "markdown",
   "id": "91140762",
   "metadata": {},
   "source": [
    "String(str)\n",
    "    . a combination or sequence of characters (alphabets, numbers, special characters)\n",
    "    . we can use single quotes or double quotes to represent strings"
   ]
  },
  {
   "cell_type": "code",
   "execution_count": 47,
   "id": "4eb598d1",
   "metadata": {},
   "outputs": [
    {
     "name": "stdout",
     "output_type": "stream",
     "text": [
      "hi\n",
      "hello\n",
      "How are you\n"
     ]
    }
   ],
   "source": [
    "myString1='hi'\n",
    "print(myString1)\n",
    "myString2=\"hello\"\n",
    "print(myString2)\n",
    "\n",
    "myString3='''How are you'''\n",
    "print(myString3)\n"
   ]
  },
  {
   "cell_type": "markdown",
   "id": "ee4ffb29",
   "metadata": {},
   "source": [
    "Multi line strings can be denoted using triple quotes, '''or'''"
   ]
  },
  {
   "cell_type": "code",
   "execution_count": 49,
   "id": "6c2965c2",
   "metadata": {},
   "outputs": [
    {
     "name": "stdout",
     "output_type": "stream",
     "text": [
      "data\n",
      "science\n",
      "course\n"
     ]
    }
   ],
   "source": [
    "name='''data\n",
    "science\n",
    "course'''\n",
    "print(name)"
   ]
  },
  {
   "cell_type": "code",
   "execution_count": 50,
   "id": "8d797717",
   "metadata": {},
   "outputs": [
    {
     "data": {
      "text/plain": [
       "str"
      ]
     },
     "execution_count": 50,
     "metadata": {},
     "output_type": "execute_result"
    }
   ],
   "source": [
    "var2=\"132\"\n",
    "type(var2)"
   ]
  },
  {
   "cell_type": "code",
   "execution_count": 51,
   "id": "64e8ee27",
   "metadata": {},
   "outputs": [
    {
     "name": "stdout",
     "output_type": "stream",
     "text": [
      "nit\n"
     ]
    }
   ],
   "source": [
    "var1='nit'\n",
    "print(var1)"
   ]
  },
  {
   "cell_type": "code",
   "execution_count": 53,
   "id": "55f8e89d",
   "metadata": {},
   "outputs": [
    {
     "data": {
      "text/plain": [
       "str"
      ]
     },
     "execution_count": 53,
     "metadata": {},
     "output_type": "execute_result"
    }
   ],
   "source": [
    "type(var1)"
   ]
  },
  {
   "cell_type": "code",
   "execution_count": 54,
   "id": "5c999787",
   "metadata": {},
   "outputs": [
    {
     "data": {
      "text/plain": [
       "int"
      ]
     },
     "execution_count": 54,
     "metadata": {},
     "output_type": "execute_result"
    }
   ],
   "source": [
    "var3=123\n",
    "type(var3)"
   ]
  },
  {
   "cell_type": "raw",
   "id": "1f47e50b",
   "metadata": {},
   "source": [
    "Length of string"
   ]
  },
  {
   "cell_type": "code",
   "execution_count": 55,
   "id": "9de56445",
   "metadata": {},
   "outputs": [
    {
     "data": {
      "text/plain": [
       "5"
      ]
     },
     "execution_count": 55,
     "metadata": {},
     "output_type": "execute_result"
    }
   ],
   "source": [
    "string=\"hello\"\n",
    "len(string)"
   ]
  },
  {
   "cell_type": "code",
   "execution_count": 56,
   "id": "ec4b3bba",
   "metadata": {},
   "outputs": [
    {
     "data": {
      "text/plain": [
       "8"
      ]
     },
     "execution_count": 56,
     "metadata": {},
     "output_type": "execute_result"
    }
   ],
   "source": [
    "string1=\"Mahender\"\n",
    "len(string1)"
   ]
  },
  {
   "cell_type": "markdown",
   "id": "3ffe2466",
   "metadata": {},
   "source": [
    "f string"
   ]
  },
  {
   "cell_type": "code",
   "execution_count": 57,
   "id": "0afd92b5",
   "metadata": {},
   "outputs": [
    {
     "name": "stdout",
     "output_type": "stream",
     "text": [
      "my number is:12 and my name is: mani\n"
     ]
    }
   ],
   "source": [
    "num=12\n",
    "name='mani'\n",
    "print(f\"my number is:{num} and my name is: {name}\")"
   ]
  },
  {
   "cell_type": "markdown",
   "id": "2dd86696",
   "metadata": {},
   "source": [
    "String concatenation\n",
    "    . Joining of two or more strings into a single one is called concatenation.\n",
    "    . The + operator does this in Python. Simply writing two string literals together also concatenates them.\n",
    "    . Note: to use+ operator for strings, compulsoryboth should be string type only"
   ]
  },
  {
   "cell_type": "code",
   "execution_count": 58,
   "id": "9b83e948",
   "metadata": {},
   "outputs": [
    {
     "data": {
      "text/plain": [
       "'helloworld'"
      ]
     },
     "execution_count": 58,
     "metadata": {},
     "output_type": "execute_result"
    }
   ],
   "source": [
    "\"hello\"+\"world\""
   ]
  },
  {
   "cell_type": "markdown",
   "id": "161b578c",
   "metadata": {},
   "source": [
    " "
   ]
  },
  {
   "cell_type": "code",
   "execution_count": 59,
   "id": "aa112095",
   "metadata": {},
   "outputs": [
    {
     "data": {
      "text/plain": [
       "'Hello world'"
      ]
     },
     "execution_count": 59,
     "metadata": {},
     "output_type": "execute_result"
    }
   ],
   "source": [
    "'Hello'+\" \"+\"world\""
   ]
  },
  {
   "cell_type": "code",
   "execution_count": 60,
   "id": "b0d13826",
   "metadata": {},
   "outputs": [
    {
     "ename": "TypeError",
     "evalue": "can only concatenate str (not \"int\") to str",
     "output_type": "error",
     "traceback": [
      "\u001b[1;31m---------------------------------------------------------------------------\u001b[0m",
      "\u001b[1;31mTypeError\u001b[0m                                 Traceback (most recent call last)",
      "Cell \u001b[1;32mIn[60], line 1\u001b[0m\n\u001b[1;32m----> 1\u001b[0m \u001b[38;5;124m\"\u001b[39m\u001b[38;5;124mmani\u001b[39m\u001b[38;5;124m\"\u001b[39m\u001b[38;5;241m+\u001b[39m\u001b[38;5;241m2\u001b[39m\n",
      "\u001b[1;31mTypeError\u001b[0m: can only concatenate str (not \"int\") to str"
     ]
    }
   ],
   "source": [
    "\"mani\"+2"
   ]
  },
  {
   "cell_type": "code",
   "execution_count": 61,
   "id": "89aa51a4",
   "metadata": {},
   "outputs": [
    {
     "data": {
      "text/plain": [
       "'mani2'"
      ]
     },
     "execution_count": 61,
     "metadata": {},
     "output_type": "execute_result"
    }
   ],
   "source": [
    "\"mani\"+\"2\""
   ]
  },
  {
   "cell_type": "code",
   "execution_count": 63,
   "id": "c6c79658",
   "metadata": {},
   "outputs": [
    {
     "data": {
      "text/plain": [
       "'mani2'"
      ]
     },
     "execution_count": 63,
     "metadata": {},
     "output_type": "execute_result"
    }
   ],
   "source": [
    "\"mani\"+str(2)"
   ]
  },
  {
   "cell_type": "code",
   "execution_count": 64,
   "id": "c3fac1ab",
   "metadata": {},
   "outputs": [
    {
     "data": {
      "text/plain": [
       "'mani3'"
      ]
     },
     "execution_count": 64,
     "metadata": {},
     "output_type": "execute_result"
    }
   ],
   "source": [
    "'mani'+'3'"
   ]
  },
  {
   "cell_type": "markdown",
   "id": "08806d39",
   "metadata": {},
   "source": [
    "Type Casting: Converting from one data type to another data type"
   ]
  },
  {
   "cell_type": "code",
   "execution_count": 65,
   "id": "986f038b",
   "metadata": {},
   "outputs": [
    {
     "data": {
      "text/plain": [
       "-4"
      ]
     },
     "execution_count": 65,
     "metadata": {},
     "output_type": "execute_result"
    }
   ],
   "source": [
    "int(-4)"
   ]
  },
  {
   "cell_type": "code",
   "execution_count": 66,
   "id": "6f319499",
   "metadata": {},
   "outputs": [
    {
     "data": {
      "text/plain": [
       "-4.0"
      ]
     },
     "execution_count": 66,
     "metadata": {},
     "output_type": "execute_result"
    }
   ],
   "source": [
    "float(-4)"
   ]
  },
  {
   "cell_type": "code",
   "execution_count": 67,
   "id": "30cb126d",
   "metadata": {},
   "outputs": [
    {
     "data": {
      "text/plain": [
       "True"
      ]
     },
     "execution_count": 67,
     "metadata": {},
     "output_type": "execute_result"
    }
   ],
   "source": [
    "bool(0.369)"
   ]
  },
  {
   "cell_type": "code",
   "execution_count": 68,
   "id": "1aaddf0d",
   "metadata": {},
   "outputs": [
    {
     "data": {
      "text/plain": [
       "False"
      ]
     },
     "execution_count": 68,
     "metadata": {},
     "output_type": "execute_result"
    }
   ],
   "source": [
    "bool()"
   ]
  },
  {
   "cell_type": "code",
   "execution_count": 69,
   "id": "82421348",
   "metadata": {},
   "outputs": [
    {
     "data": {
      "text/plain": [
       "'2'"
      ]
     },
     "execution_count": 69,
     "metadata": {},
     "output_type": "execute_result"
    }
   ],
   "source": [
    "str(2)"
   ]
  },
  {
   "cell_type": "code",
   "execution_count": 70,
   "id": "1aabd40a",
   "metadata": {},
   "outputs": [
    {
     "data": {
      "text/plain": [
       "'-2'"
      ]
     },
     "execution_count": 70,
     "metadata": {},
     "output_type": "execute_result"
    }
   ],
   "source": [
    "str(-2)"
   ]
  },
  {
   "cell_type": "code",
   "execution_count": 71,
   "id": "7c9233ad",
   "metadata": {},
   "outputs": [
    {
     "data": {
      "text/plain": [
       "2"
      ]
     },
     "execution_count": 71,
     "metadata": {},
     "output_type": "execute_result"
    }
   ],
   "source": [
    "int(2.99)"
   ]
  },
  {
   "cell_type": "code",
   "execution_count": 72,
   "id": "6c305bb2",
   "metadata": {},
   "outputs": [
    {
     "data": {
      "text/plain": [
       "2.99"
      ]
     },
     "execution_count": 72,
     "metadata": {},
     "output_type": "execute_result"
    }
   ],
   "source": [
    "float(2.99)"
   ]
  },
  {
   "cell_type": "code",
   "execution_count": 73,
   "id": "1f8a7247",
   "metadata": {},
   "outputs": [
    {
     "data": {
      "text/plain": [
       "True"
      ]
     },
     "execution_count": 73,
     "metadata": {},
     "output_type": "execute_result"
    }
   ],
   "source": [
    "bool(2.99)"
   ]
  },
  {
   "cell_type": "code",
   "execution_count": 74,
   "id": "68d648c1",
   "metadata": {},
   "outputs": [
    {
     "data": {
      "text/plain": [
       "'2.99'"
      ]
     },
     "execution_count": 74,
     "metadata": {},
     "output_type": "execute_result"
    }
   ],
   "source": [
    "str(2.99)"
   ]
  },
  {
   "cell_type": "code",
   "execution_count": 75,
   "id": "778ce3af",
   "metadata": {},
   "outputs": [
    {
     "data": {
      "text/plain": [
       "1"
      ]
     },
     "execution_count": 75,
     "metadata": {},
     "output_type": "execute_result"
    }
   ],
   "source": [
    "int(True)"
   ]
  },
  {
   "cell_type": "code",
   "execution_count": 79,
   "id": "779f7b68",
   "metadata": {},
   "outputs": [
    {
     "data": {
      "text/plain": [
       "0"
      ]
     },
     "execution_count": 79,
     "metadata": {},
     "output_type": "execute_result"
    }
   ],
   "source": [
    "int(False)"
   ]
  },
  {
   "cell_type": "code",
   "execution_count": 76,
   "id": "78d49731",
   "metadata": {},
   "outputs": [
    {
     "data": {
      "text/plain": [
       "1.0"
      ]
     },
     "execution_count": 76,
     "metadata": {},
     "output_type": "execute_result"
    }
   ],
   "source": [
    "float(True)"
   ]
  },
  {
   "cell_type": "code",
   "execution_count": 77,
   "id": "ab6a0121",
   "metadata": {},
   "outputs": [
    {
     "data": {
      "text/plain": [
       "0.0"
      ]
     },
     "execution_count": 77,
     "metadata": {},
     "output_type": "execute_result"
    }
   ],
   "source": [
    "float(False)"
   ]
  },
  {
   "cell_type": "code",
   "execution_count": 78,
   "id": "bb32e908",
   "metadata": {},
   "outputs": [
    {
     "data": {
      "text/plain": [
       "'False'"
      ]
     },
     "execution_count": 78,
     "metadata": {},
     "output_type": "execute_result"
    }
   ],
   "source": [
    "str(False)"
   ]
  },
  {
   "cell_type": "code",
   "execution_count": 80,
   "id": "22b0b927",
   "metadata": {},
   "outputs": [
    {
     "ename": "ValueError",
     "evalue": "invalid literal for int() with base 10: 'mani'",
     "output_type": "error",
     "traceback": [
      "\u001b[1;31m---------------------------------------------------------------------------\u001b[0m",
      "\u001b[1;31mValueError\u001b[0m                                Traceback (most recent call last)",
      "Cell \u001b[1;32mIn[80], line 1\u001b[0m\n\u001b[1;32m----> 1\u001b[0m \u001b[38;5;28mint\u001b[39m(\u001b[38;5;124m\"\u001b[39m\u001b[38;5;124mmani\u001b[39m\u001b[38;5;124m\"\u001b[39m)\n",
      "\u001b[1;31mValueError\u001b[0m: invalid literal for int() with base 10: 'mani'"
     ]
    }
   ],
   "source": [
    "int(\"mani\")"
   ]
  },
  {
   "cell_type": "code",
   "execution_count": 81,
   "id": "a68da250",
   "metadata": {},
   "outputs": [
    {
     "data": {
      "text/plain": [
       "123"
      ]
     },
     "execution_count": 81,
     "metadata": {},
     "output_type": "execute_result"
    }
   ],
   "source": [
    "int(\"123\")"
   ]
  },
  {
   "cell_type": "code",
   "execution_count": 82,
   "id": "11560648",
   "metadata": {},
   "outputs": [
    {
     "data": {
      "text/plain": [
       "123.0"
      ]
     },
     "execution_count": 82,
     "metadata": {},
     "output_type": "execute_result"
    }
   ],
   "source": [
    "float(\"123\")"
   ]
  },
  {
   "cell_type": "code",
   "execution_count": 83,
   "id": "0c97359e",
   "metadata": {},
   "outputs": [
    {
     "data": {
      "text/plain": [
       "True"
      ]
     },
     "execution_count": 83,
     "metadata": {},
     "output_type": "execute_result"
    }
   ],
   "source": [
    "bool(\"mani\")"
   ]
  },
  {
   "cell_type": "code",
   "execution_count": 84,
   "id": "8df5dcfd",
   "metadata": {},
   "outputs": [
    {
     "data": {
      "text/plain": [
       "123.0"
      ]
     },
     "execution_count": 84,
     "metadata": {},
     "output_type": "execute_result"
    }
   ],
   "source": [
    "float(int(float(\"123.45\")))"
   ]
  },
  {
   "cell_type": "code",
   "execution_count": null,
   "id": "88d86a3a",
   "metadata": {},
   "outputs": [],
   "source": []
  }
 ],
 "metadata": {
  "kernelspec": {
   "display_name": "Python 3 (ipykernel)",
   "language": "python",
   "name": "python3"
  },
  "language_info": {
   "codemirror_mode": {
    "name": "ipython",
    "version": 3
   },
   "file_extension": ".py",
   "mimetype": "text/x-python",
   "name": "python",
   "nbconvert_exporter": "python",
   "pygments_lexer": "ipython3",
   "version": "3.11.5"
  }
 },
 "nbformat": 4,
 "nbformat_minor": 5
}
